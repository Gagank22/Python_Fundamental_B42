{
 "cells": [
  {
   "cell_type": "code",
   "execution_count": 2,
   "metadata": {},
   "outputs": [
    {
     "name": "stdout",
     "output_type": "stream",
     "text": [
      "['rahul', 'preeti', 'simran', 'gagan', 'diksha', 'shreya']\n"
     ]
    }
   ],
   "source": [
    "students = ['rahul','preeti','simran','gagan','diksha','shreya']\n",
    "print(students)"
   ]
  },
  {
   "cell_type": "code",
   "execution_count": null,
   "metadata": {},
   "outputs": [],
   "source": [
    "# looping"
   ]
  },
  {
   "cell_type": "code",
   "execution_count": 10,
   "metadata": {},
   "outputs": [
    {
     "name": "stdout",
     "output_type": "stream",
     "text": [
      "keep up the good work Rahul\n",
      "keep up the good work Preeti\n",
      "keep up the good work Simran\n",
      "keep up the good work Gagan\n",
      "keep up the good work Diksha\n",
      "keep up the good work Shreya\n"
     ]
    }
   ],
   "source": [
    "for y in students:\n",
    "    print(f\"keep up the good work {y.title()}\")"
   ]
  },
  {
   "cell_type": "code",
   "execution_count": 13,
   "metadata": {},
   "outputs": [
    {
     "name": "stdout",
     "output_type": "stream",
     "text": [
      "Keep up the good work Rahul\n",
      "I am looking forward to receive python programming files Rahul\n",
      "Keep up the good work Preeti\n",
      "I am looking forward to receive python programming files Preeti\n",
      "Keep up the good work Simran\n",
      "I am looking forward to receive python programming files Simran\n",
      "Keep up the good work Gagan\n",
      "I am looking forward to receive python programming files Gagan\n",
      "Keep up the good work Diksha\n",
      "I am looking forward to receive python programming files Diksha\n",
      "Keep up the good work Shreya\n",
      "I am looking forward to receive python programming files Shreya\n"
     ]
    }
   ],
   "source": [
    "for y in students:\n",
    "    print(f\"Keep up the good work {y.title()}\")\n",
    "    print(f\"I am looking forward to receive python programming files {y.title()}\")"
   ]
  },
  {
   "cell_type": "code",
   "execution_count": 21,
   "metadata": {},
   "outputs": [
    {
     "name": "stdout",
     "output_type": "stream",
     "text": [
      "Keep up the good work Rahul\n",
      "\tI am looking forward to receive python programming files Rahul.\n",
      "\n",
      "Keep up the good work Preeti\n",
      "\tI am looking forward to receive python programming files Preeti.\n",
      "\n",
      "Keep up the good work Simran\n",
      "\tI am looking forward to receive python programming files Simran.\n",
      "\n",
      "Keep up the good work Gagan\n",
      "\tI am looking forward to receive python programming files Gagan.\n",
      "\n",
      "Keep up the good work Diksha\n",
      "\tI am looking forward to receive python programming files Diksha.\n",
      "\n",
      "Keep up the good work Shreya\n",
      "\tI am looking forward to receive python programming files Shreya.\n",
      "\n",
      "Thank you for showing your interest in Python.\n"
     ]
    }
   ],
   "source": [
    "for y in students:\n",
    "    print(f\"Keep up the good work {y.title()}\")\n",
    "    print( f\"\\tI am looking forward to receive python programming files {y.title()}.\\n\")\n",
    "print('Thank you for showing your interest in Python.')"
   ]
  },
  {
   "cell_type": "code",
   "execution_count": null,
   "metadata": {},
   "outputs": [],
   "source": []
  }
 ],
 "metadata": {
  "kernelspec": {
   "display_name": "Python 3",
   "language": "python",
   "name": "python3"
  },
  "language_info": {
   "codemirror_mode": {
    "name": "ipython",
    "version": 3
   },
   "file_extension": ".py",
   "mimetype": "text/x-python",
   "name": "python",
   "nbconvert_exporter": "python",
   "pygments_lexer": "ipython3",
   "version": "3.8.5"
  }
 },
 "nbformat": 4,
 "nbformat_minor": 4
}
