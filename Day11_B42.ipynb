{
 "cells": [
  {
   "cell_type": "code",
   "execution_count": null,
   "metadata": {},
   "outputs": [],
   "source": [
    "# creating class"
   ]
  },
  {
   "cell_type": "code",
   "execution_count": 9,
   "metadata": {},
   "outputs": [],
   "source": [
    "class Greet:\n",
    "    \"\"\"creating greet user\"\"\"\n",
    "    def inputuser(self,username):\n",
    "        self.username = username\n",
    "    def displayuser(self):\n",
    "        print(self.username)\n",
    "    def greetuser(self):\n",
    "        print(f\"Hello,{self.username.title()}\")"
   ]
  },
  {
   "cell_type": "code",
   "execution_count": 10,
   "metadata": {},
   "outputs": [],
   "source": [
    "test = Greet()\n",
    "test.inputuser('gagan')"
   ]
  },
  {
   "cell_type": "code",
   "execution_count": 11,
   "metadata": {},
   "outputs": [
    {
     "name": "stdout",
     "output_type": "stream",
     "text": [
      "gagan\n"
     ]
    }
   ],
   "source": [
    "test.displayuser()"
   ]
  },
  {
   "cell_type": "code",
   "execution_count": 12,
   "metadata": {},
   "outputs": [
    {
     "name": "stdout",
     "output_type": "stream",
     "text": [
      "Hello,Gagan\n"
     ]
    }
   ],
   "source": [
    "test.greetuser()"
   ]
  },
  {
   "cell_type": "code",
   "execution_count": null,
   "metadata": {},
   "outputs": [],
   "source": [
    "# Constructor"
   ]
  },
  {
   "cell_type": "code",
   "execution_count": null,
   "metadata": {},
   "outputs": [],
   "source": [
    "#scenerio : create a Dog class with name & age method"
   ]
  },
  {
   "cell_type": "code",
   "execution_count": 21,
   "metadata": {},
   "outputs": [],
   "source": [
    "class Dog:\n",
    "    def __init__(self,name,age):\n",
    "        self.name= name\n",
    "        self.age = age\n",
    "    def jump(self):\n",
    "        print(f\"My {self.name} jumps over the command\")\n",
    "    def sleep(self):\n",
    "        print(f\"My {self.name} is sleeping\")\n",
    "    def rollover(self):\n",
    "        print(f\"my {self.name} is rolling over the command\")\n",
    "    def sit(self):\n",
    "        print(f\" My {self.name} is sitting over the command\")\n",
    "    def details(self):\n",
    "        print(f\"My dog name is {self.name.title()}\")\n",
    "        print(f\"{self.name} is {self.age} years old\")"
   ]
  },
  {
   "cell_type": "code",
   "execution_count": 22,
   "metadata": {},
   "outputs": [
    {
     "name": "stdout",
     "output_type": "stream",
     "text": [
      "My brownie jumps over the command\n"
     ]
    }
   ],
   "source": [
    "abc = Dog('brownie',2)\n",
    "abc.jump()"
   ]
  },
  {
   "cell_type": "code",
   "execution_count": 17,
   "metadata": {},
   "outputs": [
    {
     "name": "stdout",
     "output_type": "stream",
     "text": [
      "My brownie is sleeping\n"
     ]
    }
   ],
   "source": [
    "abc.sleep()"
   ]
  },
  {
   "cell_type": "code",
   "execution_count": 18,
   "metadata": {},
   "outputs": [
    {
     "name": "stdout",
     "output_type": "stream",
     "text": [
      "my brownie is rolling over the command\n"
     ]
    }
   ],
   "source": [
    "abc.rollover()"
   ]
  },
  {
   "cell_type": "code",
   "execution_count": 19,
   "metadata": {},
   "outputs": [
    {
     "name": "stdout",
     "output_type": "stream",
     "text": [
      " My brownie is sitting over the command\n"
     ]
    }
   ],
   "source": [
    "abc.sit()"
   ]
  },
  {
   "cell_type": "code",
   "execution_count": 23,
   "metadata": {},
   "outputs": [
    {
     "name": "stdout",
     "output_type": "stream",
     "text": [
      "My dog name is Brownie\n",
      "brownie is 2 years old\n"
     ]
    }
   ],
   "source": [
    "abc.details()"
   ]
  },
  {
   "cell_type": "code",
   "execution_count": null,
   "metadata": {},
   "outputs": [],
   "source": []
  },
  {
   "cell_type": "code",
   "execution_count": null,
   "metadata": {},
   "outputs": [],
   "source": []
  },
  {
   "cell_type": "code",
   "execution_count": null,
   "metadata": {},
   "outputs": [],
   "source": []
  }
 ],
 "metadata": {
  "kernelspec": {
   "display_name": "Python 3",
   "language": "python",
   "name": "python3"
  },
  "language_info": {
   "codemirror_mode": {
    "name": "ipython",
    "version": 3
   },
   "file_extension": ".py",
   "mimetype": "text/x-python",
   "name": "python",
   "nbconvert_exporter": "python",
   "pygments_lexer": "ipython3",
   "version": "3.8.5"
  }
 },
 "nbformat": 4,
 "nbformat_minor": 4
}
